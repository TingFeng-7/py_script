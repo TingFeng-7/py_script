{
 "cells": [
  {
   "cell_type": "code",
   "execution_count": 41,
   "metadata": {},
   "outputs": [],
   "source": [
    "import numpy as np\n",
    "def nms(boxes, scores, nms_thr, method):\n",
    "    \"\"\"Single class NMS implemented in Numpy.\"\"\"\n",
    "    x1 = boxes[:, 0]\n",
    "    y1 = boxes[:, 1]\n",
    "    x2 = boxes[:, 2]\n",
    "    y2 = boxes[:, 3]\n",
    "\n",
    "    areas = (x2 - x1 + 1) * (y2 - y1 + 1)\n",
    "    order = scores.argsort()[::-1]\n",
    "    print(order)\n",
    "    keep = []\n",
    "    while order.size > 0:\n",
    "        print(f'order size:{order.size}')\n",
    "        i = order[0]\n",
    "        keep.append(i)\n",
    "        # 计算当前概率最大矩形框与 其他矩形框的相交框的坐标\n",
    "        xx1 = np.maximum(x1[i], x1[order[1:]])\n",
    "        yy1 = np.maximum(y1[i], y1[order[1:]])\n",
    "        xx2 = np.minimum(x2[i], x2[order[1:]])\n",
    "        yy2 = np.minimum(y2[i], y2[order[1:]])\n",
    "\n",
    "        w = np.maximum(0.0, xx2 - xx1 + 1)\n",
    "        h = np.maximum(0.0, yy2 - yy1 + 1)\n",
    "        inter = w * h\n",
    "        #数组，其他矩形框的iou与当前top框\n",
    "        ovr = inter / (areas[i] + areas[order[1:]] - inter)\n",
    "\n",
    "        #这一部分 hard 过滤了\n",
    "        #np.where ,大于的抽离箱子\n",
    "        print(f\"inter : {inter}\")\n",
    "        print(f\"ovr   : {ovr}\")\n",
    "        invalid = np.where(ovr > nms_thr)[0]\n",
    "\n",
    "\n",
    "        if method == 2:\n",
    "            sigma = 0.5\n",
    "            weight = np.exp(-(ovr**2) / sigma)\n",
    "            #重新打分\n",
    "            scores[invalid] = [ x*weight for x in scores[invalid] ]\n",
    "            print('method 2')\n",
    "        else:\n",
    "            inds = np.where(ovr <= nms_thr)[0]\n",
    "            print(f'invalid inds:{invalid+1}')\n",
    "            print(f'valid inds:{inds+1}')\n",
    "            #order 索引\n",
    "            order = order[inds + 1]\n",
    "\n",
    "    return keep"
   ]
  },
  {
   "cell_type": "code",
   "execution_count": 3,
   "metadata": {},
   "outputs": [],
   "source": [
    "import numpy as np\n",
    "a = np.zeros(10)\n",
    "id = [1,2,4] #list\n",
    "c = np.array([100,100,100])\n",
    "a[id] = c\n"
   ]
  },
  {
   "cell_type": "code",
   "execution_count": null,
   "metadata": {},
   "outputs": [],
   "source": []
  },
  {
   "cell_type": "code",
   "execution_count": 47,
   "metadata": {},
   "outputs": [
    {
     "name": "stdout",
     "output_type": "stream",
     "text": [
      "[0 2 4 1 3]\n",
      "order size:5\n",
      "inter : [5312.    0. 8256. 8554.]\n",
      "ovr   : [0.46119118 0.         0.74539545 0.70484509]\n",
      "invalid inds:[3 4]\n",
      "valid inds:[1 2]\n",
      "order size:2\n",
      "inter : [0.]\n",
      "ovr   : [0.]\n",
      "invalid inds:[]\n",
      "valid inds:[1]\n",
      "order size:1\n",
      "inter : []\n",
      "ovr   : []\n",
      "invalid inds:[]\n",
      "valid inds:[]\n",
      "result:[0, 2, 4]\n",
      "@@@@@@@@@@@@@@@@@@@@@@@@@@@@@@@@@@@@@@@@@@@@@@@@@@@@@@@@@@@@@@@@@@@@@@@@@@@@@@@@@@@@@@@@@@@@@@@@@@@@\n",
      "@@@@@@@@@@@@@@@@@@@@@@@@@@@@@@@@@@@@@@@@@@@@@@@@@@@@@@@@@@@@@@@@@@@@@@@@@@@@@@@@@@@@@@@@@@@@@@@@@@@@\n",
      "soft-nms result:[0, 1, 2, 3]\n"
     ]
    }
   ],
   "source": [
    "dets = [[0, 0, 100, 101, 0.9], [5, 6, 90, 110, 0.7], [17, 19, 80, 120, 0.8], [10, 8, 115, 105, 0.5],[114, 8, 115, 105, 0.7]]\n",
    "dets = np.array(dets)\n",
    "result = nms(dets[:,0:4],dets[:,-1], 0.6,method=1)\n",
    "print(f'result:{result}')\n",
    "print('@'*100)\n",
    "# result = nms(dets[:,0:4],dets[:,-1], 0.6, method=2)\n",
    "# print(f'm2 result:{result}')\n",
    "print('@'*100)"
   ]
  },
  {
   "cell_type": "code",
   "execution_count": 43,
   "metadata": {},
   "outputs": [],
   "source": [
    "def soft_nms(dets, sigma=0.5, nms_thr=0.5, method=2,score_thr=0.1):\n",
    "    box_len = len(dets)   # box的个数\n",
    "    for i in range(box_len):\n",
    "        tmpx1, tmpy1, tmpx2, tmpy2, ts = dets[i, 0], dets[i, 1], dets[i, 2], dets[i, 3], dets[i, 4]\n",
    "        max_pos = i\n",
    "        max_scores = ts\n",
    "        # get 最大置信度的box\n",
    "        pos = i+1\n",
    "        while pos < box_len:\n",
    "            if max_scores < dets[pos, 4]:\n",
    "                max_scores = dets[pos, 4]\n",
    "                max_pos = pos\n",
    "            pos += 1\n",
    "        # add max box as a detection\n",
    "        dets[i, :] = dets[max_pos, :]\n",
    "        # swap ith box with position of max box 交换，把 maxbox 替换到首位\n",
    "        dets[max_pos, 0] = tmpx1\n",
    "        dets[max_pos, 1] = tmpy1\n",
    "        dets[max_pos, 2] = tmpx2\n",
    "        dets[max_pos, 3] = tmpy2\n",
    "        dets[max_pos, 4] = ts\n",
    "        # 将置信度最高的 box 赋给临时变量\n",
    "        tmpx1, tmpy1, tmpx2, tmpy2, ts = dets[i, 0], dets[i, 1], dets[i, 2], dets[i, 3], dets[i, 4]\n",
    "        pos = i+1\n",
    "        # NMS iterations, note that box_len changes if detection boxes fall below threshold\n",
    "        while pos < box_len:\n",
    "            x1, y1, x2, y2 = dets[pos, 0], dets[pos, 1], dets[pos, 2], dets[pos, 3]\n",
    "            area = (x2 - x1 + 1)*(y2 - y1 + 1)\n",
    "            iw = (min(tmpx2, x2) - max(tmpx1, x1) + 1)\n",
    "            ih = (min(tmpy2, y2) - max(tmpy1, y1) + 1)\n",
    "            if iw > 0 and ih > 0:\n",
    "                overlaps = iw * ih\n",
    "                ious = overlaps / ((tmpx2 - tmpx1 + 1) * (tmpy2 - tmpy1 + 1) + area - overlaps)\n",
    "                #两种权值方法\n",
    "                if method == 1:    # 1.线性\n",
    "                    if ious > nms_thr:\n",
    "                        weight = 1 - ious\n",
    "                    else:\n",
    "                        weight = 1\n",
    "                elif method == 2:  # 2.gaussian\n",
    "                    weight = np.exp(-(ious**2) / sigma)\n",
    "                else:              # 3.hard NMS\n",
    "                    if ious > nms_thr:\n",
    "                        weight = 0\n",
    "                    else:\n",
    "                        weight = 1\n",
    "\n",
    "                # 赋予该box新的置信度\n",
    "                dets[pos, 4] = weight * dets[pos, 4]\n",
    "\n",
    "                # 如果box得分低于阈值thresh，则通过与最后一个框交换来丢弃该框\n",
    "                if dets[pos, 4] < score_thr:\n",
    "                    dets[pos, 0] = dets[box_len-1, 0]\n",
    "                    dets[pos, 1] = dets[box_len-1, 1]\n",
    "                    dets[pos, 2] = dets[box_len-1, 2]\n",
    "                    dets[pos, 3] = dets[box_len-1, 3]\n",
    "                    dets[pos, 4] = dets[box_len-1, 4]\n",
    "\n",
    "                    box_len = box_len-1\n",
    "                    pos = pos-1\n",
    "            pos += 1\n",
    "\n",
    "    keep = [i for i in range(box_len)]\n",
    "    return keep"
   ]
  },
  {
   "cell_type": "code",
   "execution_count": null,
   "metadata": {},
   "outputs": [],
   "source": []
  },
  {
   "cell_type": "code",
   "execution_count": 49,
   "metadata": {},
   "outputs": [],
   "source": [
    "a=[[2,1,3],[23,23,1]]\n",
    "b=[[1],[2]]\n",
    "for i in range(2):\n",
    "    a[i].append(b[i][0])"
   ]
  },
  {
   "cell_type": "code",
   "execution_count": 3,
   "metadata": {},
   "outputs": [
    {
     "name": "stdout",
     "output_type": "stream",
     "text": [
      "我们的数组是：\n",
      "[[[0. 1. 2.]\n",
      "  [3. 4. 5.]\n",
      "  [6. 7. 8.]]]\n",
      "大于 3 的元素的索引：\n",
      "15\n",
      "使用这些索引来获取满足条件的元素：\n",
      "[4. 5. 6. 7. 8.]\n"
     ]
    }
   ],
   "source": [
    "import numpy as np \n",
    " \n",
    "x = np.arange(9.).reshape(1,3, 3)  \n",
    "print ('我们的数组是：')\n",
    "print (x)\n",
    "print ( '大于 3 的元素的索引：')\n",
    "y = np.where(x >  3) \n",
    "y2 = np.where(x >  3)[0] \n",
    "#返回一个元组\n",
    "y1 = np.concatenate(y)\n",
    "print (y1.size)\n",
    "print ('使用这些索引来获取满足条件的元素：')\n",
    "print (x[y])\n",
    "#三目表达式\n",
    "y = np.arange(9.) \n",
    "x1=np.where(x>3, x, x+3)[0]\n",
    "y=np.where(y>3, y, y*2)"
   ]
  },
  {
   "cell_type": "code",
   "execution_count": 19,
   "metadata": {},
   "outputs": [
    {
     "data": {
      "text/plain": [
       "9"
      ]
     },
     "execution_count": 19,
     "metadata": {},
     "output_type": "execute_result"
    }
   ],
   "source": [
    "ovr = np.arange(9)\n",
    "# weight = np.(ovr)\n",
    "y=np.where(y>6, y, y*ovr)\n",
    "y.size"
   ]
  },
  {
   "cell_type": "code",
   "execution_count": 25,
   "metadata": {},
   "outputs": [
    {
     "data": {
      "text/plain": [
       "array([ 1,  2,  4,  8, 12, 17,  7,  8,  9, 10, 11, 12, 13, 14, 15, 16, 17,\n",
       "       18, 19, 20])"
      ]
     },
     "execution_count": 25,
     "metadata": {},
     "output_type": "execute_result"
    }
   ],
   "source": [
    "a = np.arange(20)\n",
    "b = np.arange(20,40)\n",
    "id = [1,2,3,4,5]\n",
    "weight = np.linspace(1,10,20)\n",
    "a[id] = a[id] * weight[id]\n",
    "a+1\n"
   ]
  },
  {
   "cell_type": "code",
   "execution_count": 4,
   "metadata": {},
   "outputs": [
    {
     "name": "stdout",
     "output_type": "stream",
     "text": [
      "[[ 5  6  7  8]\n",
      " [10 11 12 13]\n",
      " [15 16 17 18]]\n"
     ]
    }
   ],
   "source": [
    "x = np.arange(60).reshape(12,-1)\n",
    "x1 = np.arange(20).reshape(4,-1)\n",
    "np.argsort(x,axis=0)\n",
    "# np.argsort(x,axis=2)\n",
    "np.argsort(x,axis=1)\n",
    "x2 = np.concatenate((x,x1))\n",
    "##\n",
    "a = [1,2,3]\n",
    "an =np.array(a)\n",
    "print(x2[a,:4])"
   ]
  },
  {
   "cell_type": "code",
   "execution_count": 16,
   "metadata": {},
   "outputs": [],
   "source": [
    "x1[:,3] =[1,2,10,10000]\n",
    "x11 = x1[np.argsort(x1[:,3])[::-1]]\n",
    "order = x[1:,...]\n",
    "a=[]\n",
    "keep1 = np.empty((0,5), int)\n",
    "a.append(x1)\n",
    "a.append(x2)\n",
    "# an = np.array(a)\n",
    "#拼凑array\n",
    "keep1 = np.empty((0,5), int)\n",
    "keep1 = np.concatenate((keep1,x1))\n",
    "keep1 = np.concatenate((keep1,x))"
   ]
  },
  {
   "cell_type": "code",
   "execution_count": 18,
   "metadata": {},
   "outputs": [
    {
     "name": "stdout",
     "output_type": "stream",
     "text": [
      "<class 'bool'>\n",
      "1\n"
     ]
    }
   ],
   "source": [
    "class_a = True\n",
    "print(type(class_a))\n",
    "if class_a:\n",
    "    print(1)\n",
    "else:\n",
    "    print(2)"
   ]
  }
 ],
 "metadata": {
  "kernelspec": {
   "display_name": "Python 3.8.8 ('base')",
   "language": "python",
   "name": "python3"
  },
  "language_info": {
   "codemirror_mode": {
    "name": "ipython",
    "version": 3
   },
   "file_extension": ".py",
   "mimetype": "text/x-python",
   "name": "python",
   "nbconvert_exporter": "python",
   "pygments_lexer": "ipython3",
   "version": "3.8.8"
  },
  "orig_nbformat": 4,
  "vscode": {
   "interpreter": {
    "hash": "ff4f85d6e04298634172ac5d8264e7e9b556b95639fe52ebb9425c4d4cba0c9c"
   }
  }
 },
 "nbformat": 4,
 "nbformat_minor": 2
}
